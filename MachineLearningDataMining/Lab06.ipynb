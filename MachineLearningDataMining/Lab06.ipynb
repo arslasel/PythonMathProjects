{
 "cells": [
  {
   "cell_type": "markdown",
   "metadata": {},
   "source": [
    "# Machine Learning and Data Mining: Lab 06\n",
    "---------------"
   ]
  },
  {
   "cell_type": "markdown",
   "metadata": {},
   "source": [
    "## Exercise 1: Metrics\n",
    "\n",
    "Assume we have a multi-label classification task. `y_gt` is the ground-truth data, `y_pr` the prediction from a given classifier"
   ]
  },
  {
   "cell_type": "code",
   "execution_count": 79,
   "metadata": {},
   "outputs": [],
   "source": [
    "import numpy as np\n",
    "from sklearn.metrics import confusion_matrix\n",
    "import seaborn as sns\n",
    "\n",
    "y_gt = np.array([0, 1, 2, 2, 2, 1, 0, 0, 1, 0, 2, 1, 0, 1, 2, 1, 0, 0, 2, 2, 1, 1, 2, 2])\n",
    "y_pr = np.array([0, 1, 1, 2, 0, 1, 1, 0, 2, 0, 0, 1, 0, 2, 2, 1, 1, 0, 2, 2, 1, 1, 2, 2])"
   ]
  },
  {
   "cell_type": "markdown",
   "metadata": {},
   "source": [
    "#### (a) Plot the confusion matrix using `seaborn` and `sklearn`"
   ]
  },
  {
   "cell_type": "code",
   "execution_count": 80,
   "metadata": {},
   "outputs": [
    {
     "name": "stdout",
     "output_type": "stream",
     "text": [
      "[[5 2 0]\n",
      " [0 6 2]\n",
      " [2 1 6]]\n"
     ]
    }
   ],
   "source": [
    "from sklearn.linear_model import LogisticRegression\n",
    "from sklearn.metrics import confusion_matrix\n",
    "import seaborn as sns\n",
    "\n",
    "cf_matrix = confusion_matrix(y_gt, y_pr)\n",
    "print(cf_matrix)"
   ]
  },
  {
   "cell_type": "code",
   "execution_count": 81,
   "metadata": {},
   "outputs": [
    {
     "data": {
      "text/plain": [
       "<AxesSubplot:>"
      ]
     },
     "execution_count": 81,
     "metadata": {},
     "output_type": "execute_result"
    },
    {
     "data": {
      "image/png": "[encoded data removed]",
      "text/plain": [
       "<Figure size 432x288 with 2 Axes>"
      ]
     },
     "metadata": {
      "needs_background": "light"
     },
     "output_type": "display_data"
    }
   ],
   "source": [
    "sns.heatmap(cf_matrix, annot=True)"
   ]
  },
  {
   "cell_type": "markdown",
   "metadata": {},
   "source": [
    "#### (b) Implement your own function to calculate the accuracy"
   ]
  },
  {
   "cell_type": "code",
   "execution_count": 84,
   "metadata": {},
   "outputs": [
    {
     "name": "stdout",
     "output_type": "stream",
     "text": [
      "0.7083333333333334\n"
     ]
    }
   ],
   "source": [
    "def calcAccuracy(expectation, prediction):\n",
    "    count = 0\n",
    "    for i in range(len(prediction)):\n",
    "        if(expectation[i] == prediction[i]):\n",
    "            count += 1\n",
    "    return count / len(prediction)\n",
    "\n",
    "print(calcAccuracy(y_gt, y_pr))"
   ]
  },
  {
   "cell_type": "code",
   "execution_count": 85,
   "metadata": {},
   "outputs": [
    {
     "data": {
      "text/plain": [
       "0.7083333333333334"
      ]
     },
     "execution_count": 85,
     "metadata": {},
     "output_type": "execute_result"
    }
   ],
   "source": [
    "# For comparison\n",
    "from sklearn.metrics import accuracy_score\n",
    "accuracy_score(y_gt, y_pr)"
   ]
  },
  {
   "cell_type": "markdown",
   "metadata": {},
   "source": [
    "#### (c) Implement your own functions to calculate the precision, recall and f-score\n",
    "For simplicity, we work with binary predictions"
   ]
  },
  {
   "cell_type": "code",
   "execution_count": 86,
   "metadata": {},
   "outputs": [],
   "source": [
    "y_gt = np.array([0, 1, 1, 1, 0, 1, 0, 0, 0, 1, 1, 0, 0, 1, 0, 1, 1, 0, 0, 0, 0, 1, 1, 1])\n",
    "y_pr = np.array([0, 1, 0, 1, 1, 1, 1, 0, 0, 1, 0, 0, 1, 1, 1, 1, 0, 0, 0, 1, 0, 0, 1, 1])"
   ]
  },
  {
   "cell_type": "code",
   "execution_count": 87,
   "metadata": {},
   "outputs": [
    {
     "name": "stdout",
     "output_type": "stream",
     "text": [
      "[[7 5]\n",
      " [4 8]]\n"
     ]
    },
    {
     "data": {
      "text/plain": [
       "<AxesSubplot:>"
      ]
     },
     "execution_count": 87,
     "metadata": {},
     "output_type": "execute_result"
    },
    {
     "data": {
      "image/png": "[encoded data removed]",
      "text/plain": [
       "<Figure size 432x288 with 2 Axes>"
      ]
     },
     "metadata": {
      "needs_background": "light"
     },
     "output_type": "display_data"
    }
   ],
   "source": [
    "cf_matrix = confusion_matrix(y_gt, y_pr)\n",
    "print(cf_matrix)\n",
    "sns.heatmap(cf_matrix, annot=True)"
   ]
  },
  {
   "cell_type": "code",
   "execution_count": 88,
   "metadata": {},
   "outputs": [
    {
     "name": "stdout",
     "output_type": "stream",
     "text": [
      "0.6153846153846154\n"
     ]
    }
   ],
   "source": [
    "#P_pos = true Positive / (true Positive + false positive)\n",
    "def calcPrecision(expectation, prediction):\n",
    "    cf_matrix = confusion_matrix(expectation, prediction)\n",
    "    true_Positive = cf_matrix[1][1]\n",
    "    false_Positive = true_Positive + cf_matrix[0][1]\n",
    "    return true_Positive / false_Positive\n",
    "\n",
    "print(calcPrecision(y_gt, y_pr))"
   ]
  },
  {
   "cell_type": "code",
   "execution_count": 89,
   "metadata": {},
   "outputs": [
    {
     "name": "stdout",
     "output_type": "stream",
     "text": [
      "0.6666666666666666\n"
     ]
    }
   ],
   "source": [
    "#R-pos = true Positives / all positives Documents\n",
    "def calcRecall(expectation, prediction):\n",
    "    cf_matrix = confusion_matrix(expectation, prediction)\n",
    "    true_Positive = cf_matrix[1][1]\n",
    "    all_Positive_Doc = cf_matrix[1][0] + cf_matrix[1][1]\n",
    "    return true_Positive / all_Positive_Doc\n",
    "\n",
    "print(calcRecall(y_gt, y_pr))"
   ]
  },
  {
   "cell_type": "code",
   "execution_count": 90,
   "metadata": {},
   "outputs": [
    {
     "name": "stdout",
     "output_type": "stream",
     "text": [
      "0.64\n"
     ]
    }
   ],
   "source": [
    "##f = 2 * ((precision * recall) / (precision + recall))\n",
    "def calcFscore(expectation, prediction):\n",
    "    return 2 * ((calcPrecision(expectation, prediction) * calcRecall(expectation, prediction))/(calcPrecision(expectation, prediction)+calcRecall(expectation, prediction)))\n",
    "print(calcFscore(y_gt, y_pr))"
   ]
  },
  {
   "cell_type": "code",
   "execution_count": 91,
   "metadata": {},
   "outputs": [
    {
     "name": "stdout",
     "output_type": "stream",
     "text": [
      "Precision: 0.6153846153846154\n",
      "Recall: 0.6666666666666666\n",
      "F1-Score: 0.64\n"
     ]
    }
   ],
   "source": [
    "# For comparison\n",
    "from sklearn.metrics import precision_score, recall_score, f1_score\n",
    "print(f\"Precision: {precision_score(y_gt, y_pr)}\")\n",
    "print(f\"Recall: {recall_score(y_gt, y_pr)}\")\n",
    "print(f\"F1-Score: {f1_score(y_gt, y_pr)}\")"
   ]
  },
  {
   "cell_type": "markdown",
   "metadata": {},
   "source": [
    "---\n",
    "## Exercise 2: Kappa Measure\n",
    "#### 5 persons provided their rating for the different countries. Implement the kappa function to calculate the rater agreement between all of them."
   ]
  },
  {
   "cell_type": "code",
   "execution_count": 105,
   "metadata": {},
   "outputs": [
    {
     "name": "stdout",
     "output_type": "stream",
     "text": [
      "Counter({'yes': 3, 'no': 1})\n",
      "3\n"
     ]
    }
   ],
   "source": [
    "from collections import Counter\n",
    "\n",
    "# Hint if you have a dict, for example...\n",
    "my_dict = {'value_1': 'yes', 'value_2': 'yes', 'value_3': 'yes', 'value_4': 'no'}\n",
    "\n",
    "# you can use collections.Counter to count values, e.g.\n",
    "print(Counter(my_dict.values()))\n",
    "print(Counter(my_dict.values())['yes'])"
   ]
  },
  {
   "cell_type": "code",
   "execution_count": 120,
   "metadata": {},
   "outputs": [
    {
     "name": "stdout",
     "output_type": "stream",
     "text": [
      "Kappa (rater1, rater2): 1.0\n",
      "Kappa (rater1, rater3): 0.9012875536480688\n",
      "Kappa (rater1, rater4): 0.6166666666666667\n",
      "Kappa (rater1, rater5): 0.23333333333333336\n",
      "Kappa (rater2, rater3): 0.9012875536480688\n",
      "Kappa (rater2, rater4): 0.6166666666666667\n",
      "Kappa (rater2, rater5): 0.23333333333333336\n",
      "Kappa (rater3, rater4): 0.7038626609442059\n",
      "Kappa (rater3, rater5): 0.3090128755364806\n",
      "Kappa (rater4, rater5): 0.6166666666666667\n"
     ]
    }
   ],
   "source": [
    "# TODO: implement the calculation of the kappa value.\n",
    "def kappa(rater1, rater2):\n",
    "    shared_dictSame = {}\n",
    "    shared_dictNSame = {}\n",
    "    for i in rater1:\n",
    "        if (i in rater2) and (rater1[i] == rater2[i]):\n",
    "            shared_dictSame[i] = rater1[i]\n",
    "            \n",
    "    for i in rater1:\n",
    "        if (i in rater2) and (rater1[i] != rater2[i]):\n",
    "            shared_dictNSame[i] = rater1[i]\n",
    "            \n",
    "            \n",
    "    rater12counterYes = Counter(shared_dictSame.values())['Yes']\n",
    "    rater12counterNo =  Counter(shared_dictSame.values())['No']\n",
    "    rater12counterNotYes = Counter(shared_dictNSame.values())['Yes']\n",
    "    rater12counterNotNo =  Counter(shared_dictNSame.values())['No'] \n",
    "    \n",
    "    nenner = (rater12counterYes + rater12counterNo + rater12counterNotYes + rater12counterNotNo)\n",
    "    p0 = (rater12counterYes + rater12counterNo) / nenner\n",
    "    pYes = ((rater12counterYes + rater12counterNotYes) / nenner) * ((rater12counterYes + rater12counterNotNo) / nenner)\n",
    "    pNo = ((rater12counterNo + rater12counterNotYes) / nenner) * ((rater12counterNo + rater12counterNotNo) / nenner)\n",
    "    pe = pYes + pNo\n",
    "    \n",
    "    k = (p0 - pe) / (1 - pe)\n",
    "    return k \n",
    "\n",
    "# start of the kappa calculation. All raters are compared against each other.\n",
    "def runKappa():\n",
    "    counter = 0\n",
    "    rater1 = {'Germany': 'Yes', 'Brazil': 'Yes', 'Argentina': 'Yes', 'France': 'Yes', 'Italy': 'Yes', 'Uruguay': 'Yes', 'England': 'Yes', 'Spanien': 'Yes', 'Albanien': 'No', 'Schweiz': 'No', 'Schweden': 'No',\n",
    "    'Norway': 'No', 'Russia': 'No', 'Greece': 'No', 'Portugal': 'No', 'USA': 'No', 'Panama': 'No',\n",
    "    'Colombia': 'No', 'Australia': 'No', 'Croatia': 'No', 'Austria': 'No', 'Poland': 'No', 'Hungary': 'No'}\n",
    "    rater2 = {'Germany': 'Yes', 'Brazil': 'Yes', 'Argentina': 'Yes', 'France': 'Yes', 'Italy': 'Yes', 'Uruguay': 'Yes', 'England': 'Yes', 'Spanien': 'Yes', 'Albanien': 'No', 'Schweiz': 'No', 'Schweden': 'No',\n",
    "    'Norway': 'No', 'Russia': 'No', 'Greece': 'No', 'Portugal': 'No', 'USA': 'No', 'Panama': 'No',\n",
    "    'Colombia': 'No', 'Australia': 'No', 'Croatia': 'No', 'Austria': 'No', 'Poland': 'No', 'Hungary': 'No'}\n",
    "    rater3 = {'Germany': 'No', 'Brazil': 'Yes', 'Argentina': 'Yes', 'France': 'Yes', 'Italy': 'Yes', 'Uruguay': 'Yes', 'England': 'Yes', 'Spanien': 'Yes', 'Albanien': 'No', 'Schweiz': 'No', 'Schweden': 'No',\n",
    "    'Norway': 'No', 'Russia': 'No', 'Greece': 'No', 'Portugal': 'No', 'USA': 'No', 'Panama': 'No',\n",
    "    'Colombia': 'No', 'Australia': 'No', 'Croatia': 'No', 'Austria': 'No', 'Poland': 'No', 'Hungary': 'No'}\n",
    "    rater4 = {'Germany': 'No', 'Brazil': 'No', 'Argentina': 'Yes', 'France': 'Yes', 'Italy': 'Yes', 'Uruguay': 'Yes', 'England': 'Yes', 'Spanien': 'Yes', 'Albanien': 'Yes', 'Schweiz': 'Yes', 'Schweden': 'No',\n",
    "    'Norway': 'No', 'Russia': 'No', 'Greece': 'No', 'Portugal': 'No', 'USA': 'No', 'Panama': 'No',\n",
    "    'Colombia': 'No', 'Australia': 'No', 'Croatia': 'No', 'Austria': 'No', 'Poland': 'No', 'Hungary': 'No'}\n",
    "    rater5 = {'Germany': 'No', 'Brazil': 'No', 'Argentina': 'No', 'France': 'No', 'Italy': 'Yes', 'Uruguay': 'Yes', 'England': 'Yes', 'Spanien': 'Yes', 'Albanien': 'Yes', 'Schweiz': 'Yes', 'Schweden': 'Yes',\n",
    "    'Norway': 'Yes', 'Russia': 'No', 'Greece': 'No', 'Portugal': 'No', 'USA': 'No', 'Panama': 'No',\n",
    "    'Colombia': 'No', 'Australia': 'No', 'Croatia': 'No', 'Austria': 'No', 'Poland': 'No', 'Hungary': 'No'}\n",
    "    \n",
    "\n",
    "    print(\"Kappa (rater1, rater2): \" + str(kappa(rater1, rater2)))\n",
    "    print(\"Kappa (rater1, rater3): \" + str(kappa(rater1, rater3)))\n",
    "    print(\"Kappa (rater1, rater4): \" + str(kappa(rater1, rater4)))\n",
    "    print(\"Kappa (rater1, rater5): \" + str(kappa(rater1, rater5)))\n",
    "    print(\"Kappa (rater2, rater3): \" + str(kappa(rater2, rater3)))\n",
    "    print(\"Kappa (rater2, rater4): \" + str(kappa(rater2, rater4)))\n",
    "    print(\"Kappa (rater2, rater5): \" + str(kappa(rater2, rater5)))\n",
    "    print(\"Kappa (rater3, rater4): \" + str(kappa(rater3, rater4)))\n",
    "    print(\"Kappa (rater3, rater5): \" + str(kappa(rater3, rater5)))\n",
    "    print(\"Kappa (rater4, rater5): \" + str(kappa(rater4, rater5)))\n",
    "\n",
    "runKappa()"
   ]
  },
  {
   "cell_type": "markdown",
   "metadata": {},
   "source": [
    "---\n",
    "\n",
    "## Exercise 3: Linear Regression"
   ]
  },
  {
   "cell_type": "code",
   "execution_count": 94,
   "metadata": {},
   "outputs": [
    {
     "data": {
      "text/html": [
       "<div>\n",
       "<style scoped>\n",
       "    .dataframe tbody tr th:only-of-type {\n",
       "        vertical-align: middle;\n",
       "    }\n",
       "\n",
       "    .dataframe tbody tr th {\n",
       "        vertical-align: top;\n",
       "    }\n",
       "\n",
       "    .dataframe thead th {\n",
       "        text-align: right;\n",
       "    }\n",
       "</style>\n",
       "<table border=\"1\" class=\"dataframe\">\n",
       "  <thead>\n",
       "    <tr style=\"text-align: right;\">\n",
       "      <th></th>\n",
       "      <th>fixed acidity</th>\n",
       "      <th>volatile acidity</th>\n",
       "      <th>citric acid</th>\n",
       "      <th>residual sugar</th>\n",
       "      <th>chlorides</th>\n",
       "      <th>free sulfur dioxide</th>\n",
       "      <th>total sulfur dioxide</th>\n",
       "      <th>density</th>\n",
       "      <th>pH</th>\n",
       "      <th>sulphates</th>\n",
       "      <th>alcohol</th>\n",
       "      <th>quality</th>\n",
       "    </tr>\n",
       "  </thead>\n",
       "  <tbody>\n",
       "    <tr>\n",
       "      <th>0</th>\n",
       "      <td>7.4</td>\n",
       "      <td>0.70</td>\n",
       "      <td>0.00</td>\n",
       "      <td>1.9</td>\n",
       "      <td>0.076</td>\n",
       "      <td>11.0</td>\n",
       "      <td>34.0</td>\n",
       "      <td>0.9978</td>\n",
       "      <td>3.51</td>\n",
       "      <td>0.56</td>\n",
       "      <td>9.4</td>\n",
       "      <td>5</td>\n",
       "    </tr>\n",
       "    <tr>\n",
       "      <th>1</th>\n",
       "      <td>7.8</td>\n",
       "      <td>0.88</td>\n",
       "      <td>0.00</td>\n",
       "      <td>2.6</td>\n",
       "      <td>0.098</td>\n",
       "      <td>25.0</td>\n",
       "      <td>67.0</td>\n",
       "      <td>0.9968</td>\n",
       "      <td>3.20</td>\n",
       "      <td>0.68</td>\n",
       "      <td>9.8</td>\n",
       "      <td>5</td>\n",
       "    </tr>\n",
       "    <tr>\n",
       "      <th>2</th>\n",
       "      <td>7.8</td>\n",
       "      <td>0.76</td>\n",
       "      <td>0.04</td>\n",
       "      <td>2.3</td>\n",
       "      <td>0.092</td>\n",
       "      <td>15.0</td>\n",
       "      <td>54.0</td>\n",
       "      <td>0.9970</td>\n",
       "      <td>3.26</td>\n",
       "      <td>0.65</td>\n",
       "      <td>9.8</td>\n",
       "      <td>5</td>\n",
       "    </tr>\n",
       "    <tr>\n",
       "      <th>3</th>\n",
       "      <td>11.2</td>\n",
       "      <td>0.28</td>\n",
       "      <td>0.56</td>\n",
       "      <td>1.9</td>\n",
       "      <td>0.075</td>\n",
       "      <td>17.0</td>\n",
       "      <td>60.0</td>\n",
       "      <td>0.9980</td>\n",
       "      <td>3.16</td>\n",
       "      <td>0.58</td>\n",
       "      <td>9.8</td>\n",
       "      <td>6</td>\n",
       "    </tr>\n",
       "    <tr>\n",
       "      <th>4</th>\n",
       "      <td>7.4</td>\n",
       "      <td>0.70</td>\n",
       "      <td>0.00</td>\n",
       "      <td>1.9</td>\n",
       "      <td>0.076</td>\n",
       "      <td>11.0</td>\n",
       "      <td>34.0</td>\n",
       "      <td>0.9978</td>\n",
       "      <td>3.51</td>\n",
       "      <td>0.56</td>\n",
       "      <td>9.4</td>\n",
       "      <td>5</td>\n",
       "    </tr>\n",
       "  </tbody>\n",
       "</table>\n",
       "</div>"
      ],
      "text/plain": [
       "   fixed acidity  volatile acidity  citric acid  residual sugar  chlorides  \\\n",
       "0            7.4              0.70         0.00             1.9      0.076   \n",
       "1            7.8              0.88         0.00             2.6      0.098   \n",
       "2            7.8              0.76         0.04             2.3      0.092   \n",
       "3           11.2              0.28         0.56             1.9      0.075   \n",
       "4            7.4              0.70         0.00             1.9      0.076   \n",
       "\n",
       "   free sulfur dioxide  total sulfur dioxide  density    pH  sulphates  \\\n",
       "0                 11.0                  34.0   0.9978  3.51       0.56   \n",
       "1                 25.0                  67.0   0.9968  3.20       0.68   \n",
       "2                 15.0                  54.0   0.9970  3.26       0.65   \n",
       "3                 17.0                  60.0   0.9980  3.16       0.58   \n",
       "4                 11.0                  34.0   0.9978  3.51       0.56   \n",
       "\n",
       "   alcohol  quality  \n",
       "0      9.4        5  \n",
       "1      9.8        5  \n",
       "2      9.8        5  \n",
       "3      9.8        6  \n",
       "4      9.4        5  "
      ]
     },
     "execution_count": 94,
     "metadata": {},
     "output_type": "execute_result"
    }
   ],
   "source": [
    "import pandas as pd\n",
    "import matplotlib.pyplot as plt\n",
    "\n",
    "df = pd.read_csv('winequality-red.csv')\n",
    "df.head()"
   ]
  },
  {
   "cell_type": "markdown",
   "metadata": {},
   "source": [
    "#### (a) Make a scatter plot of the data. Show the pH-value on the y-axis and the alcohol value on the x-axis"
   ]
  },
  {
   "cell_type": "code",
   "execution_count": null,
   "metadata": {},
   "outputs": [],
   "source": []
  },
  {
   "cell_type": "markdown",
   "metadata": {},
   "source": [
    "#### (b) Implement your own class `LinearRegression`. This class must have at least a method `fit(self,x,y)` to calculate the regression parameters and a method `predict(self,x)` to predict unseen values"
   ]
  },
  {
   "cell_type": "code",
   "execution_count": 15,
   "metadata": {},
   "outputs": [],
   "source": [
    "import numpy as np\n",
    "\n",
    "class LinearRegression:\n",
    "    def __init__(self):\n",
    "        self.a = 0\n",
    "        self.b = 1\n",
    "        \n",
    "    def predict(self,x):\n",
    "        # return a + b * x\n",
    "        pass\n",
    "    \n",
    "    def fit(self,x,y):\n",
    "        # b = sum((x-x_avg)*(y-y_avg)) / sum((x-x_avg)^2)\n",
    "        pass"
   ]
  },
  {
   "cell_type": "code",
   "execution_count": 16,
   "metadata": {},
   "outputs": [],
   "source": [
    "reg = LinearRegression()\n",
    "reg.fit(df.alcohol, df.pH)\n",
    "pH_predict = reg.predict(df.alcohol)"
   ]
  },
  {
   "cell_type": "markdown",
   "metadata": {},
   "source": [
    "#### (c) Plot the result: Copy the scatter plot from above. Additionally, plot the prediction as red line in the same figure"
   ]
  },
  {
   "cell_type": "code",
   "execution_count": null,
   "metadata": {},
   "outputs": [],
   "source": []
  },
  {
   "cell_type": "markdown",
   "metadata": {},
   "source": [
    "#### (d) Print the slope, the intercept and the prediction for `alcohol=7` as well as for `alcohol=16`"
   ]
  },
  {
   "cell_type": "code",
   "execution_count": null,
   "metadata": {},
   "outputs": [],
   "source": []
  },
  {
   "cell_type": "markdown",
   "metadata": {},
   "source": [
    "#### (e) Implement the Linear Regression with gradient descent and plot the result"
   ]
  },
  {
   "cell_type": "code",
   "execution_count": 19,
   "metadata": {},
   "outputs": [],
   "source": [
    "from random import randrange\n",
    "class LinearRegressionGD:\n",
    "    def __init__(self, a0 = 0, b0 = 1):\n",
    "        self.a = a0\n",
    "        self.b = b0\n",
    "        \n",
    "    def predict(self,x):\n",
    "        # return a + b * x\n",
    "        pass\n",
    "    \n",
    "    def fit(self,x,y, epochs = 100000, learning_rate = 0.01):\n",
    "        for _ in range(epochs):\n",
    "            index = randrange(0, len(x))\n",
    "            # a = a + (learning_rate * (y - y_pred))\n",
    "            # b = b + (learning_rate * x * (y - y_pred))\n",
    "            \n",
    "            # ... TODO ...\n",
    "            \n",
    "reg = LinearRegressionGD(a0 = 3, b0=0)\n",
    "reg.fit(df.alcohol, df.pH)\n",
    "pH_predict = reg.predict(df.alcohol)"
   ]
  },
  {
   "cell_type": "code",
   "execution_count": null,
   "metadata": {},
   "outputs": [],
   "source": []
  },
  {
   "cell_type": "markdown",
   "metadata": {},
   "source": [
    "---\n",
    "## Exercise 4: Multivariate Linear Regression\n",
    "#### (a) Implement the multivariate linear regression "
   ]
  },
  {
   "cell_type": "code",
   "execution_count": 22,
   "metadata": {},
   "outputs": [],
   "source": [
    "class MultivariateLinearRegression:\n",
    "    def __init__(self):\n",
    "        pass\n",
    "        \n",
    "    def predict(self,X):\n",
    "        # return X * b\n",
    "        pass\n",
    "    \n",
    "    def fit(self,X,y):\n",
    "        # b = (X.T * X)^(-1) * (X.T * y)\n",
    "        pass"
   ]
  },
  {
   "cell_type": "markdown",
   "metadata": {},
   "source": [
    "#### (b) Implement a function which returns the Mean Square Error"
   ]
  },
  {
   "cell_type": "code",
   "execution_count": 1,
   "metadata": {},
   "outputs": [],
   "source": [
    "def mse(y_true, y_predict):\n",
    "    pass"
   ]
  },
  {
   "cell_type": "markdown",
   "metadata": {},
   "source": [
    "#### (c) Calculate the MSE between all combination of two attributes - Which combination leads to the lowest MSE?"
   ]
  },
  {
   "cell_type": "code",
   "execution_count": null,
   "metadata": {},
   "outputs": [],
   "source": []
  },
  {
   "cell_type": "code",
   "execution_count": null,
   "metadata": {},
   "outputs": [],
   "source": []
  }
 ],
 "metadata": {
  "kernelspec": {
   "display_name": "Python 3 (ipykernel)",
   "language": "python",
   "name": "python3"
  },
  "language_info": {
   "codemirror_mode": {
    "name": "ipython",
    "version": 3
   },
   "file_extension": ".py",
   "mimetype": "text/x-python",
   "name": "python",
   "nbconvert_exporter": "python",
   "pygments_lexer": "ipython3",
   "version": "3.8.11"
  }
 },
 "nbformat": 4,
 "nbformat_minor": 4
}
